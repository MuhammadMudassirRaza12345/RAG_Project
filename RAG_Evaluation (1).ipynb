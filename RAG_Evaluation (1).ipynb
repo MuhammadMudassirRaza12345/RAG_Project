{
  "nbformat": 4,
  "nbformat_minor": 0,
  "metadata": {
    "colab": {
      "provenance": [],
      "gpuType": "T4"
    },
    "kernelspec": {
      "name": "python3",
      "display_name": "Python 3"
    },
    "language_info": {
      "name": "python"
    },
    "accelerator": "GPU"
  },
  "cells": [
    {
      "cell_type": "code",
      "execution_count": null,
      "metadata": {
        "colab": {
          "base_uri": "https://localhost:8080/"
        },
        "id": "9Z13h9y8WWLr",
        "outputId": "70bd4456-8423-43ad-8eaf-3ccb3687ecdb"
      },
      "outputs": [
        {
          "output_type": "stream",
          "name": "stdout",
          "text": [
            "Collecting rag-evaluator\n",
            "  Downloading rag_evaluator-0.1.0-py3-none-any.whl.metadata (974 bytes)\n",
            "Requirement already satisfied: torch in /usr/local/lib/python3.10/dist-packages (from rag-evaluator) (2.5.1+cu121)\n",
            "Collecting sacrebleu (from rag-evaluator)\n",
            "  Downloading sacrebleu-2.4.3-py3-none-any.whl.metadata (51 kB)\n",
            "\u001b[?25l     \u001b[90m━━━━━━━━━━━━━━━━━━━━━━━━━━━━━━━━━━━━━━━━\u001b[0m \u001b[32m0.0/51.8 kB\u001b[0m \u001b[31m?\u001b[0m eta \u001b[36m-:--:--\u001b[0m\r\u001b[2K     \u001b[90m━━━━━━━━━━━━━━━━━━━━━━━━━━━━━━━━━━━━━━━━\u001b[0m \u001b[32m51.8/51.8 kB\u001b[0m \u001b[31m4.9 MB/s\u001b[0m eta \u001b[36m0:00:00\u001b[0m\n",
            "\u001b[?25hCollecting rouge-score (from rag-evaluator)\n",
            "  Downloading rouge_score-0.1.2.tar.gz (17 kB)\n",
            "  Preparing metadata (setup.py) ... \u001b[?25l\u001b[?25hdone\n",
            "Collecting bert-score (from rag-evaluator)\n",
            "  Downloading bert_score-0.3.13-py3-none-any.whl.metadata (15 kB)\n",
            "Requirement already satisfied: transformers in /usr/local/lib/python3.10/dist-packages (from rag-evaluator) (4.46.2)\n",
            "Requirement already satisfied: nltk in /usr/local/lib/python3.10/dist-packages (from rag-evaluator) (3.9.1)\n",
            "Requirement already satisfied: textblob in /usr/local/lib/python3.10/dist-packages (from rag-evaluator) (0.17.1)\n",
            "Requirement already satisfied: pandas>=1.0.1 in /usr/local/lib/python3.10/dist-packages (from bert-score->rag-evaluator) (2.2.2)\n",
            "Requirement already satisfied: numpy in /usr/local/lib/python3.10/dist-packages (from bert-score->rag-evaluator) (1.26.4)\n",
            "Requirement already satisfied: requests in /usr/local/lib/python3.10/dist-packages (from bert-score->rag-evaluator) (2.32.3)\n",
            "Requirement already satisfied: tqdm>=4.31.1 in /usr/local/lib/python3.10/dist-packages (from bert-score->rag-evaluator) (4.66.6)\n",
            "Requirement already satisfied: matplotlib in /usr/local/lib/python3.10/dist-packages (from bert-score->rag-evaluator) (3.8.0)\n",
            "Requirement already satisfied: packaging>=20.9 in /usr/local/lib/python3.10/dist-packages (from bert-score->rag-evaluator) (24.2)\n",
            "Requirement already satisfied: filelock in /usr/local/lib/python3.10/dist-packages (from torch->rag-evaluator) (3.16.1)\n",
            "Requirement already satisfied: typing-extensions>=4.8.0 in /usr/local/lib/python3.10/dist-packages (from torch->rag-evaluator) (4.12.2)\n",
            "Requirement already satisfied: networkx in /usr/local/lib/python3.10/dist-packages (from torch->rag-evaluator) (3.4.2)\n",
            "Requirement already satisfied: jinja2 in /usr/local/lib/python3.10/dist-packages (from torch->rag-evaluator) (3.1.4)\n",
            "Requirement already satisfied: fsspec in /usr/local/lib/python3.10/dist-packages (from torch->rag-evaluator) (2024.10.0)\n",
            "Requirement already satisfied: sympy==1.13.1 in /usr/local/lib/python3.10/dist-packages (from torch->rag-evaluator) (1.13.1)\n",
            "Requirement already satisfied: mpmath<1.4,>=1.1.0 in /usr/local/lib/python3.10/dist-packages (from sympy==1.13.1->torch->rag-evaluator) (1.3.0)\n",
            "Requirement already satisfied: huggingface-hub<1.0,>=0.23.2 in /usr/local/lib/python3.10/dist-packages (from transformers->rag-evaluator) (0.26.2)\n",
            "Requirement already satisfied: pyyaml>=5.1 in /usr/local/lib/python3.10/dist-packages (from transformers->rag-evaluator) (6.0.2)\n",
            "Requirement already satisfied: regex!=2019.12.17 in /usr/local/lib/python3.10/dist-packages (from transformers->rag-evaluator) (2024.9.11)\n",
            "Requirement already satisfied: safetensors>=0.4.1 in /usr/local/lib/python3.10/dist-packages (from transformers->rag-evaluator) (0.4.5)\n",
            "Requirement already satisfied: tokenizers<0.21,>=0.20 in /usr/local/lib/python3.10/dist-packages (from transformers->rag-evaluator) (0.20.3)\n",
            "Requirement already satisfied: click in /usr/local/lib/python3.10/dist-packages (from nltk->rag-evaluator) (8.1.7)\n",
            "Requirement already satisfied: joblib in /usr/local/lib/python3.10/dist-packages (from nltk->rag-evaluator) (1.4.2)\n",
            "Requirement already satisfied: absl-py in /usr/local/lib/python3.10/dist-packages (from rouge-score->rag-evaluator) (1.4.0)\n",
            "Requirement already satisfied: six>=1.14.0 in /usr/local/lib/python3.10/dist-packages (from rouge-score->rag-evaluator) (1.16.0)\n",
            "Collecting portalocker (from sacrebleu->rag-evaluator)\n",
            "  Downloading portalocker-3.0.0-py3-none-any.whl.metadata (8.5 kB)\n",
            "Requirement already satisfied: tabulate>=0.8.9 in /usr/local/lib/python3.10/dist-packages (from sacrebleu->rag-evaluator) (0.9.0)\n",
            "Collecting colorama (from sacrebleu->rag-evaluator)\n",
            "  Downloading colorama-0.4.6-py2.py3-none-any.whl.metadata (17 kB)\n",
            "Requirement already satisfied: lxml in /usr/local/lib/python3.10/dist-packages (from sacrebleu->rag-evaluator) (5.3.0)\n",
            "Requirement already satisfied: python-dateutil>=2.8.2 in /usr/local/lib/python3.10/dist-packages (from pandas>=1.0.1->bert-score->rag-evaluator) (2.8.2)\n",
            "Requirement already satisfied: pytz>=2020.1 in /usr/local/lib/python3.10/dist-packages (from pandas>=1.0.1->bert-score->rag-evaluator) (2024.2)\n",
            "Requirement already satisfied: tzdata>=2022.7 in /usr/local/lib/python3.10/dist-packages (from pandas>=1.0.1->bert-score->rag-evaluator) (2024.2)\n",
            "Requirement already satisfied: MarkupSafe>=2.0 in /usr/local/lib/python3.10/dist-packages (from jinja2->torch->rag-evaluator) (3.0.2)\n",
            "Requirement already satisfied: contourpy>=1.0.1 in /usr/local/lib/python3.10/dist-packages (from matplotlib->bert-score->rag-evaluator) (1.3.1)\n",
            "Requirement already satisfied: cycler>=0.10 in /usr/local/lib/python3.10/dist-packages (from matplotlib->bert-score->rag-evaluator) (0.12.1)\n",
            "Requirement already satisfied: fonttools>=4.22.0 in /usr/local/lib/python3.10/dist-packages (from matplotlib->bert-score->rag-evaluator) (4.54.1)\n",
            "Requirement already satisfied: kiwisolver>=1.0.1 in /usr/local/lib/python3.10/dist-packages (from matplotlib->bert-score->rag-evaluator) (1.4.7)\n",
            "Requirement already satisfied: pillow>=6.2.0 in /usr/local/lib/python3.10/dist-packages (from matplotlib->bert-score->rag-evaluator) (11.0.0)\n",
            "Requirement already satisfied: pyparsing>=2.3.1 in /usr/local/lib/python3.10/dist-packages (from matplotlib->bert-score->rag-evaluator) (3.2.0)\n",
            "Requirement already satisfied: charset-normalizer<4,>=2 in /usr/local/lib/python3.10/dist-packages (from requests->bert-score->rag-evaluator) (3.4.0)\n",
            "Requirement already satisfied: idna<4,>=2.5 in /usr/local/lib/python3.10/dist-packages (from requests->bert-score->rag-evaluator) (3.10)\n",
            "Requirement already satisfied: urllib3<3,>=1.21.1 in /usr/local/lib/python3.10/dist-packages (from requests->bert-score->rag-evaluator) (2.2.3)\n",
            "Requirement already satisfied: certifi>=2017.4.17 in /usr/local/lib/python3.10/dist-packages (from requests->bert-score->rag-evaluator) (2024.8.30)\n",
            "Downloading rag_evaluator-0.1.0-py3-none-any.whl (3.6 kB)\n",
            "Downloading bert_score-0.3.13-py3-none-any.whl (61 kB)\n",
            "\u001b[2K   \u001b[90m━━━━━━━━━━━━━━━━━━━━━━━━━━━━━━━━━━━━━━━━\u001b[0m \u001b[32m61.1/61.1 kB\u001b[0m \u001b[31m6.0 MB/s\u001b[0m eta \u001b[36m0:00:00\u001b[0m\n",
            "\u001b[?25hDownloading sacrebleu-2.4.3-py3-none-any.whl (103 kB)\n",
            "\u001b[2K   \u001b[90m━━━━━━━━━━━━━━━━━━━━━━━━━━━━━━━━━━━━━━━━\u001b[0m \u001b[32m104.0/104.0 kB\u001b[0m \u001b[31m9.8 MB/s\u001b[0m eta \u001b[36m0:00:00\u001b[0m\n",
            "\u001b[?25hDownloading colorama-0.4.6-py2.py3-none-any.whl (25 kB)\n",
            "Downloading portalocker-3.0.0-py3-none-any.whl (19 kB)\n",
            "Building wheels for collected packages: rouge-score\n",
            "  Building wheel for rouge-score (setup.py) ... \u001b[?25l\u001b[?25hdone\n",
            "  Created wheel for rouge-score: filename=rouge_score-0.1.2-py3-none-any.whl size=24935 sha256=45bc21c16f3f39a33dfb20385f05f1488150996179de2f322da8487d28760531\n",
            "  Stored in directory: /root/.cache/pip/wheels/5f/dd/89/461065a73be61a532ff8599a28e9beef17985c9e9c31e541b4\n",
            "Successfully built rouge-score\n",
            "Installing collected packages: portalocker, colorama, sacrebleu, rouge-score, bert-score, rag-evaluator\n",
            "Successfully installed bert-score-0.3.13 colorama-0.4.6 portalocker-3.0.0 rag-evaluator-0.1.0 rouge-score-0.1.2 sacrebleu-2.4.3\n"
          ]
        }
      ],
      "source": [
        "!pip install rag-evaluator"
      ]
    },
    {
      "cell_type": "markdown",
      "source": [
        "1.First LLM MODEL flan-t5-large\n",
        "\n",
        "https://huggingface.co/google/flan-t5-large\n"
      ],
      "metadata": {
        "id": "MJr30gw3WbEP"
      }
    },
    {
      "cell_type": "code",
      "source": [
        "import math\n",
        "from rag_evaluator import RAGEvaluator\n",
        "\n",
        "# Initialize the evaluator\n",
        "evaluator = RAGEvaluator()\n",
        "\n",
        "# QA data with questions, responses, and reference answers\n",
        "qa_data = [\n",
        "    {\n",
        "        \"question\": \"What are the general immigration requirements for newcomers in Germany?\",\n",
        "        \"response\": \"• Proof of sufficient financial means • Health insurance • Basic knowledge of the German language • Third-country national must sign a declaration that he is aware that the permit can be refused and expulsion can be ordered if false information is provided • Other documents necessary to prove the purpose of immigration\",\n",
        "        \"reference\": \"Proof of sufficient financial means, health insurance, basic knowledge of the German language, and other necessary documents to prove the purpose of immigration.\"\n",
        "    },\n",
        "    {\n",
        "        \"question\": \"How long does the visa application process take in Germany?\",\n",
        "        \"response\": \"three months\",\n",
        "        \"reference\": \"The visa application process typically takes three months.\"\n",
        "    },\n",
        "    {\n",
        "        \"question\": \"What are the family reunification policies in Germany?\",\n",
        "        \"response\": \"Spouses and minor children of German citizens may be issued a residence permit for the purpose of family reunification, as may the parents of minor unmarried Germans for the purpose of care\",\n",
        "        \"reference\": \"Spouses and minor children of German citizens may be issued a residence permit for family reunification, as may parents of minor unmarried Germans for the purpose of care.\"\n",
        "    },\n",
        "    {\n",
        "        \"question\": \"Are there any specific language requirements to migrate to Germany?\",\n",
        "        \"response\": \"Knowledge of the German language is not required prior to entry\",\n",
        "        \"reference\": \"Knowledge of the German language is not required prior to entry.\"\n",
        "    },\n",
        "    {\n",
        "        \"question\": \"What types of work visas are available in Germany?\",\n",
        "        \"response\": \"seasonal work\",\n",
        "        \"reference\": \"Seasonal work visas are available in Germany.\"\n",
        "    },\n",
        "    {\n",
        "        \"question\": \"Can I apply for permanent residency in Germany after a certain period?\",\n",
        "        \"response\": \"2.3.2.2 Permanent Residence\",\n",
        "        \"reference\": \"Information regarding permanent residency eligibility varies based on the applicant's situation, such as employment or study duration.\"\n",
        "    },\n",
        "    {\n",
        "        \"question\": \"What is the capital of Pakistan?\",\n",
        "        \"response\": \"Pakistan\",\n",
        "        \"reference\": \"The capital of Pakistan is Islamabad.\"\n",
        "    }\n",
        "]\n",
        "\n",
        "# Print table header\n",
        "print(f\"{'Q#':<5} {'Question':<60} {'BLEU':<8} {'ROUGE-1':<8} {'BERT P':<8} {'BERT R':<8} {'BERT F1':<8} {'Perplexity':<12} {'Diversity':<10} {'Racial Bias':<12}\")\n",
        "print(\"=\"*110)\n",
        "\n",
        "# Evaluate and print the results\n",
        "for idx, qa in enumerate(qa_data, 1):\n",
        "    question = qa[\"question\"]\n",
        "    response = qa[\"response\"]\n",
        "    reference = qa[\"reference\"]\n",
        "\n",
        "    # Evaluate using the RAGEvaluator\n",
        "    metrics = evaluator.evaluate_all(question, response, reference)\n",
        "\n",
        "    # Extract the metrics, handling NaN gracefully and rounding values to 2 decimal places\n",
        "    bleu = round(metrics.get('BLEU', float('nan')), 2) if metrics.get('BLEU', float('nan')) != float('nan') else 'N/A'\n",
        "    rouge_1 = round(metrics.get('ROUGE-1', float('nan')), 2) if metrics.get('ROUGE-1', float('nan')) != float('nan') else 'N/A'\n",
        "    bert_p = round(metrics.get('BERT P', float('nan')), 2) if metrics.get('BERT P', float('nan')) != float('nan') else 'N/A'\n",
        "    bert_r = round(metrics.get('BERT R', float('nan')), 2) if metrics.get('BERT R', float('nan')) != float('nan') else 'N/A'\n",
        "    bert_f1 = round(metrics.get('BERT F1', float('nan')), 2) if metrics.get('BERT F1', float('nan')) != float('nan') else 'N/A'\n",
        "    perplexity = round(metrics.get('Perplexity', float('nan')), 2) if metrics.get('Perplexity', float('nan')) != float('nan') else 'N/A'\n",
        "    diversity = round(metrics.get('Diversity', float('nan')), 2) if metrics.get('Diversity', float('nan')) != float('nan') else 'N/A'\n",
        "    racial_bias = round(metrics.get('Racial Bias', float('nan')), 2) if metrics.get('Racial Bias', float('nan')) != float('nan') else 'N/A'\n",
        "\n",
        "    # Print results in tabular format\n",
        "    print(f\"{idx:<5} {question[:60]:<60} {bleu:<8} {rouge_1:<8} {bert_p:<8} {bert_r:<8} {bert_f1:<8} {perplexity:<12} {diversity:<10} {racial_bias:<12}\")\n"
      ],
      "metadata": {
        "colab": {
          "base_uri": "https://localhost:8080/"
        },
        "id": "VVlG682RWaFu",
        "outputId": "da812ce6-f19e-4daf-a416-17c358d4c47e"
      },
      "execution_count": null,
      "outputs": [
        {
          "output_type": "stream",
          "name": "stderr",
          "text": [
            "Hardware accelerator e.g. GPU is available in the environment, but no `device` argument is passed to the `Pipeline` object. Model will be on CPU.\n",
            "Failed to determine 'entailment' label id from the label2id mapping in the model config. Setting to -1. Define a descriptive label2id mapping in the model config to ensure correct outputs.\n"
          ]
        },
        {
          "output_type": "stream",
          "name": "stdout",
          "text": [
            "Q#    Question                                                     BLEU     ROUGE-1  BERT P   BERT R   BERT F1  Perplexity   Diversity  Racial Bias \n",
            "==============================================================================================================\n",
            "1     What are the general immigration requirements for newcomers  22.56    0.64     0.73     0.85     0.79     60.43        0.96       0.5         \n",
            "2     How long does the visa application process take in Germany?  0.0      0.4      0.78     0.69     0.73     1205.35      0.5        0.47        \n",
            "3     What are the family reunification policies in Germany?       77.09    0.93     0.94     0.95     0.95     27.58        0.88       0.46        \n",
            "4     Are there any specific language requirements to migrate to G 91.31    1.0      0.97     0.96     0.97     30.22        0.91       0.47        \n",
            "5     What types of work visas are available in Germany?           0.0      0.44     0.82     0.75     0.79     13952.01     0.5        0.45        \n",
            "6     Can I apply for permanent residency in Germany after a certa 0.0      0.17     0.62     0.61     0.61     34.0         0.67       0.48        \n",
            "7     What is the capital of Pakistan?                             0.0      0.29     0.77     0.68     0.72     nan          0.0        0.46        \n"
          ]
        }
      ]
    },
    {
      "cell_type": "markdown",
      "source": [
        "**Interpretation**"
      ],
      "metadata": {
        "id": "AFnDjQ_9fiKs"
      }
    },
    {
      "cell_type": "markdown",
      "source": [
        "Best Performing: Question 3 and 4 (high BLEU, ROUGE, and BERT scores, low perplexity, high diversity)\n",
        "\n",
        "Worst Performing: Question 2, 5, 6, and 7 (very high perplexity, low BLEU, and low semantic similarity)\n",
        "\n",
        "Diversity: Questions 1, 3, and 4 have high diversity, while Question 7 has very low diversity.\n",
        "\n",
        "Racial Bias: Moderate bias is present across most outputs, especially for Questions 1, 2, and 5."
      ],
      "metadata": {
        "id": "nZZATTexfbg2"
      }
    },
    {
      "cell_type": "markdown",
      "source": [
        "2. Second LLM Model bart-large\n",
        "\n",
        "https://huggingface.co/facebook/bart-large"
      ],
      "metadata": {
        "id": "eA0avkxOeY4N"
      }
    },
    {
      "cell_type": "code",
      "source": [
        "from rag_evaluator import RAGEvaluator\n",
        "import math\n",
        "\n",
        "# Initialize the evaluator\n",
        "evaluator = RAGEvaluator()\n",
        "\n",
        "# Define a list of question-answer pairs\n",
        "qa_data = [\n",
        "    {\n",
        "        \"question\": \"What are the general immigration requirements for newcomers in Germany?\",\n",
        "        \"response\": (\"539Laws for Legal Immigration in the 27 EU Member States¯¯¯¯¯¯¯¯Authority competent \"\n",
        "                     \"to issue residence permitConditions Applicable for Residence¯¯¯¯¯¯¯¯Regardless of Immigration \"\n",
        "                     \"CategoryGrounds for Rejection Appeal Rights Fees503GermanyRegional Aliens¯¯¯¯¯¯¯¯¯¯¯¯¯¯¯¯¯¯¯¯¯¯¯¯¯¯¯¯¯¯¯¯¯¯¯¯¯¯¯¯¯¯¯¯¯¯¯¯¯¯¯¯¯¯¯¯¯¯¯¯¯¯¯¯¯¯¯¯¯¯¯¯¯¯¯¯¯¯¯¯¯¯¯¯¯¯¯¯¯¯¯¯¯¯¯¯¯¯¯¯¯¯¯¯¯¯¯¯¯¯¯¯¯¯¯¯¯¯¯¯¯¯━...\"),\n",
        "        \"reference\": (\"Proof of sufficient financial means, health insurance, basic knowledge of the German language, \"\n",
        "                     \"and other necessary documents to prove the purpose of immigration.\")\n",
        "    },\n",
        "    {\n",
        "        \"question\": \"What are the family reunification policies in Germany?\",\n",
        "        \"response\": (\"286 Family reunification for German citizens. Spouses and minor children of German citizens may be issued a \"\n",
        "                     \"residence permit for the purpose of family reunification, as may the parents of minor unmarried Germans for the purpose \"\n",
        "                     \"of care (Residence Act, Art. 28(5)). The residence permit shall be prolonged as long as the long-term family relationship persists. \"\n",
        "                     \"Foreign family members of Germans have the right to be employed or self-employed without examination of the labour market or other restrictions \"\n",
        "                     \"(residence act, art. 28). The right of residence for spouses of Germans may be extended to spouses of non-German citizens if the spouse of a German citizen \"\n",
        "                     \"is a citizen of a foreign country. This right is based on the principle of family respect for the fundamental principles recognized by the laws of the Republic \"\n",
        "                     \"(primarily the principle in the Constitution of the Federal Republic and the principles of equality between genders and the rejection of discrimination on the basis of origin).\"),\n",
        "        \"reference\": (\"Spouses and minor children of German citizens may be issued a residence permit for family reunification, as may parents of minor unmarried Germans for the purpose of care.\")\n",
        "    },\n",
        "    {\n",
        "        \"question\": \"Are there any specific language requirements to migrate to Germany?\",\n",
        "        \"response\": (\"Knowledge of the German language is not required prior to entry; however, this may change. 85 For countries that apply language requirements as a general condition and have national permanent residence permits, i.e., Austria and Germany. \"\n",
        "                     \"The applicant does not, however, have to prove knowledge of the host country’s history. 86 Exceptions are made for persons not aged between 18 and 65, former members of the armed forces, and for persons who have already been living in Germany for a long period of time. \"\n",
        "                     \"Currently, in order to obtain a permanent residence permit, the applicant must show a basic knowledge of the German language. At present, immigrants are expected to make the effort to learn the German language only after their entry, to which end language courses are offered. \"\n",
        "                     \"Immigrants with insufficient language skills can be required to attend these courses (Residence Act, Art. 44(a)). In practice, the courses are used most frequently by the first generation of immigrants.\"),\n",
        "        \"reference\": \"Knowledge of the German language is not required prior to entry.\"\n",
        "    },\n",
        "    {\n",
        "        \"question\": \"What types of work visas are available in Germany?\",\n",
        "        \"response\": (\"Including: seasonal work; au-pair occupation; domestic help in households with persons in need of care; and social work. Also subject to permissive regulations for entry and stay are those individuals belonging to German ethnic groups in Eastern European countries or those States formerly part of the Soviet Union, persons displaced in World War II and their descendants, and foreigners who lived in the federal territory as minors and who have a right to return after a durable departure (Residence Act, Art. 37). \"\n",
        "                     \"General rules apply for 'switching' of immigration category. Permit is issued a maximum of 6 months within 1 year. Procedural requirements are similar to the general rules.\"),\n",
        "        \"reference\": \"Seasonal work visas are available in Germany.\"\n",
        "    },\n",
        "    {\n",
        "        \"question\": \"Can I apply for permanent residency in Germany after a certain period?\",\n",
        "        \"response\": (\"The time of the applicant’s studies or vocational training can be counted for up to half of the required stay time. \"\n",
        "                     \"The maximum length of stay varies according to the purpose of stay. For example, a temporary residence permit may be given within a period of two months to an employee sent temporarily for the supply of services (Employment Regulation, Art. 31), or up to three months within a month for the provision of services to an immigrant sent temporarily to Germany for a short period of time. \"\n",
        "                     \"The duration of the stay is determined by the duration of an economic activity. Generally, renewal of a temporary residency permit is subject to the same conditions that apply to its first issuance (Residence Act, Art. No. 11).\"),\n",
        "        \"reference\": \"Permanent residency can be applied for after fulfilling certain conditions like time of stay, studies, or economic activity duration in Germany.\"\n",
        "    }\n",
        "]\n",
        "\n",
        "# Print table header\n",
        "print(f\"{'Q#':<5} {'Question':<60} {'BLEU':<8} {'ROUGE-1':<8} {'BERT P':<8} {'BERT R':<8} {'BERT F1':<8} {'Perplexity':<12} {'Diversity':<10} {'Racial Bias':<12}\")\n",
        "print(\"=\"*110)\n",
        "\n",
        "# Evaluate and print the results\n",
        "for idx, qa in enumerate(qa_data, 1):\n",
        "    question = qa[\"question\"]\n",
        "    response = qa[\"response\"]\n",
        "    reference = qa[\"reference\"]\n",
        "\n",
        "    # Evaluate using the RAGEvaluator\n",
        "    metrics = evaluator.evaluate_all(question, response, reference)\n",
        "\n",
        "    # Extract the metrics, handling NaN gracefully and rounding values to 2 decimal places\n",
        "    bleu = round(metrics.get('BLEU', float('nan')), 2) if metrics.get('BLEU', float('nan')) != float('nan') else 'N/A'\n",
        "    rouge_1 = round(metrics.get('ROUGE-1', float('nan')), 2) if metrics.get('ROUGE-1', float('nan')) != float('nan') else 'N/A'\n",
        "    bert_p = round(metrics.get('BERT P', float('nan')), 2) if metrics.get('BERT P', float('nan')) != float('nan') else 'N/A'\n",
        "    bert_r = round(metrics.get('BERT R', float('nan')), 2) if metrics.get('BERT R', float('nan')) != float('nan') else 'N/A'\n",
        "    bert_f1 = round(metrics.get('BERT F1', float('nan')), 2) if metrics.get('BERT F1', float('nan')) != float('nan') else 'N/A'\n",
        "    perplexity = round(metrics.get('Perplexity', float('nan')), 2) if metrics.get('Perplexity', float('nan')) != float('nan') else 'N/A'\n",
        "    diversity = round(metrics.get('Diversity', float('nan')), 2) if metrics.get('Diversity', float('nan')) != float('nan') else 'N/A'\n",
        "    racial_bias = round(metrics.get('Racial Bias', float('nan')), 2) if metrics.get('Racial Bias', float('nan')) != float('nan') else 'N/A'\n",
        "\n",
        "    # Print results in tabular format\n",
        "    print(f\"{idx:<5} {question[:60]:<60} {bleu:<8} {rouge_1:<8} {bert_p:<8} {bert_r:<8} {bert_f1:<8} {perplexity:<12} {diversity:<10} {racial_bias:<12}\")"
      ],
      "metadata": {
        "colab": {
          "base_uri": "https://localhost:8080/"
        },
        "id": "qZCOLQSLbXA5",
        "outputId": "1cee2983-c810-4828-8909-d2580fc34998"
      },
      "execution_count": null,
      "outputs": [
        {
          "output_type": "stream",
          "name": "stderr",
          "text": [
            "Hardware accelerator e.g. GPU is available in the environment, but no `device` argument is passed to the `Pipeline` object. Model will be on CPU.\n",
            "Failed to determine 'entailment' label id from the label2id mapping in the model config. Setting to -1. Define a descriptive label2id mapping in the model config to ensure correct outputs.\n"
          ]
        },
        {
          "output_type": "stream",
          "name": "stdout",
          "text": [
            "Q#    Question                                                     BLEU     ROUGE-1  BERT P   BERT R   BERT F1  Perplexity   Diversity  Racial Bias \n",
            "==============================================================================================================\n",
            "1     What are the general immigration requirements for newcomers  1.76     0.15     0.56     0.64     0.6      298.0        0.96       0.49        \n",
            "2     What are the family reunification policies in Germany?       13.71    0.29     0.7      0.88     0.78     16.46        0.9        0.48        \n",
            "3     Are there any specific language requirements to migrate to G 5.11     0.13     0.59     0.83     0.69     20.14        0.93       0.49        \n",
            "4     What types of work visas are available in Germany?           0.41     0.07     0.59     0.73     0.65     58.07        0.99       0.49        \n",
            "5     Can I apply for permanent residency in Germany after a certa 1.28     0.2      0.63     0.74     0.68     22.45        0.89       0.46        \n"
          ]
        }
      ]
    },
    {
      "cell_type": "markdown",
      "source": [
        "**Interpretation**"
      ],
      "metadata": {
        "id": "2KqPHLsNgEnV"
      }
    },
    {
      "cell_type": "markdown",
      "source": [
        "Best Performing: Question 2 (good BLEU, ROUGE, BERT scores, low perplexity, high diversity)\n",
        "\n",
        "Worst Performing: Question 4 (very low BLEU and ROUGE scores, moderate perplexity)\n",
        "\n",
        "Diversity: All questions show very high diversity (ranging from 0.89 to 0.99).\n",
        "\n",
        "Racial Bias: All questions show moderate bias (ranging from 0.46 to 0.49).\n",
        "\n",
        "Perplexity: Question 2 and Question 5 have the lowest perplexity (better coherence), while Question 1 and Question 4 have higher perplexity (less coherent)."
      ],
      "metadata": {
        "id": "C8IneJp0f8rR"
      }
    },
    {
      "cell_type": "markdown",
      "source": [
        "**CONCLUSION**"
      ],
      "metadata": {
        "id": "7UNaPnOSgTr_"
      }
    },
    {
      "cell_type": "markdown",
      "source": [
        "Model 1 is performing better overall due to its higher BLEU, ROUGE-1, and BERT scores, lower perplexity, and better semantic quality. Model 2 has significantly lower performance across these metrics, suggesting it is less effective."
      ],
      "metadata": {
        "id": "-EcNO0NWgkJE"
      }
    }
  ]
}